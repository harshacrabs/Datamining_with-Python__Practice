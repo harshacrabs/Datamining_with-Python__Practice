





import matplotlib.pyplot as plt

year = [1950,1970,1990,2010]
pop = [2.519,3.692,5.263,6.972]

plt.plot(year,pop)
plt.show()





plt.scatter(year, pop)
plt.show()





import numpy as np

np_height  = np.round(np.random.normal(1.75,0.2,20),2)
np_weight = np.round(np.random.normal(60.32,15,20),2)

plt.scatter(np_height, np_weight)

plt.show()


np_x = np.arange(10,30,1)
np_y = 1.3 * .3 * np_x

plt.scatter(np_x,np_y)
plt.show()





import matplotlib.pyplot as plt
help(plt.hist)


values = [0,0.6,1.4,1.6,2.2,2.5,2.6,3.2,2.5,3.9,4.2,6]
plt.hist(values, bins =3)
plt.show()





import matplotlib.pyplot as plt

year = [1950,1970,1990,2010]
pop = [2.519,3.692,5.263,6.972]
plt.plot(year,pop)


plt.xlabel('Year')
plt.ylabel('Population')
plt.title('World Population Projections')
plt.yticks([0,2,4,6,8,10], ['0','2B', '4B', '6B', '8B', '10B'])

plt.show()


import pandas as pd


df = pd.read_csv('../datasets/world_population_data.csv')

df.head(5)


df.info()


df['World_Population'] = df['World_Population'].str.replace(',', '')

df['World_Population'] = df['World_Population'].astype(int)



df['billions'] = round(df.World_Population / 1000000000,2)


df.head()





import matplotlib.pyplot as plt

year = df['Year']
pop = df['billions']
plt.plot(year, pop)


plt.xlabel('Year')
plt.ylabel('Population')
plt.title('World Population Projections')
plt.yticks([0,2,4,6,8,10], ['0','2B', '4B', '6B', '8B', '10B'])




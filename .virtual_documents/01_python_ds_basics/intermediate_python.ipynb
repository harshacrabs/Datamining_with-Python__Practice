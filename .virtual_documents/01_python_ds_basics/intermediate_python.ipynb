





import matplotlib.pyplot as plt

year = [1950,1970,1990,2010]
pop = [2.519,3.692,5.263,6.972]

plt.plot(year,pop)
plt.show()





plt.scatter(year, pop)
plt.show()





import numpy as np

np_height  = np.round(np.random.normal(1.75,0.2,20),2)
np_weight = np.round(np.random.normal(60.32,15,20),2)

plt.scatter(np_height, np_weight)

plt.show()


np_x = np.arange(10,30,1)
np_y = 1.3 * .3 * np_x

plt.scatter(np_x,np_y)
plt.show()





import matplotlib.pyplot as plt
help(plt.hist)


values = [0,0.6,1.4,1.6,2.2,2.5,2.6,3.2,2.5,3.9,4.2,6]
plt.hist(values, bins =3)
plt.show()





import matplotlib.pyplot as plt

year = [1950,1970,1990,2010]
pop = [2.519,3.692,5.263,6.972]
plt.plot(year,pop)


plt.xlabel('Year')
plt.ylabel('Population')
plt.title('World Population Projections')
plt.yticks([0,2,4,6,8,10], ['0','2B', '4B', '6B', '8B', '10B'])

plt.show()


import pandas as pd


df = pd.read_csv('../datasets/world_population_data.csv')

df.head(5)


df.info()


df['World_Population'] = df['World_Population'].str.replace(',', '')

df['World_Population'] = df['World_Population'].astype(int)



df['billions'] = round(df.World_Population / 1000000000,2)


df.head()





import matplotlib.pyplot as plt

year = df['Year']
pop = df['billions']
plt.plot(year, pop)


plt.xlabel('Year')
plt.ylabel('Population')
plt.title('World Population Projections')
plt.yticks([0,2,4,6,8,10], ['0','2B', '4B', '6B', '8B', '10B'])





world = {'afganistan':30.55, 'albania':2.77, 'algeria':39.21}




world['afganistan']





world['albania'] = 2.87


world





'sealand' in world


world['sealand'] = 0.000027


world


'sealand' in world





data_dict = {

'area' : [8.516,17.100,3.286,9.597,1.221],
'capital' : ['Brasilia', 'Moscow', 'New Delhi', 'Beijing', 'Pretoria'],
'country' : ['Brazil', 'Russia', 'India', 'China', 'South Africa'],
'population' : [200.40,143.50,1252.00,1357.00,52.98]

}

data_dict


import pandas as pd

df = pd.DataFrame(data_dict)


df


index = ['BR', 'RU', 'IN', 'CH', 'SA']

df.index = index

df



df['country']


type(df['country'])


df[['country']]


type(df[['country']])


sub_df = df[['country', 'capital']]

sub_df


df[1:5]





df.loc['RU']


df.loc[['RU']]


df.loc[['RU', 'IN', 'CH']]


df.loc[['RU', 'IN', 'CH'], ['country', 'population']]


df.loc[:,['country', 'population']]





df.iloc[[1,2,3]]


df.iloc[[1,2,3], [1,2]]


df.iloc[:, [1,2]]





1>2


type(1>2)


2==3


'carl' > 'Debbie'


True and False


False and True


True or False





import numpy as np

height = np.array([1.75,1.34,1.56,1.54,1.48])

weight = np.array([65.4,56.7,73.8,65.4,49.8])

bmi = weight/height **2

bmi


bmi>25





np.logical_and(bmi>21 , bmi < 25)





num = 3

if num % 2 == 0:
    print('This number is even')

else:
    print('This number is odd')


temp = 35

if temp > 212:
    print('gas')

elif temp > 32:
    print('liquid')

else:
    print('solid')




df





df.to_csv('../datasets/countries.csv')


df = pd.read_csv('../datasets/countries.csv', index_col = 0)

df


df['area']


df['area']>8


df[df['area']>8]


df[df['area']>8][['area']]


np.logical_and(df['area']>8, df['area'] < 10)


selection = np.logical_and(df['area']>8, df['area'] < 10)


df[selection]


df[np.logical_and(df['area']>8,df['area']<10)]








x = 10

while x > 0:
    print(x)
    x -= 1
print('Blast off')





for x in range(10):
    print(x)


for x in range(2,10,2):
    print(x)


fam = [1.73,1.68,1.71,1.89]

for index, height in enumerate(fam):
    print(f"index {index} : {height}")


phrase = 'Hello world'

for ch in phrase:
    print(ch)





data_dict = {

    'area' : [8.516,17.100,3.286,9.597,1.221],
    'capital': ['Brasilia', 'Moscow', 'New Delhi', 'Beijing', 'Pretoria'],
    'country' : ['Brazil', 'Russia', 'India', 'China', 'South Africa'],
    'population' : [200.40,143.50,1252.00,1357.00,52.98]

}

data_dict


for key in data_dict:
    print(key)


for key in data_dict:
    print(data_dict[key])


for key,value in data_dict.items():
    print(f"{key}:{value}")





heights = np.array([1.75,1.34,1.56,1.54,1.48])

weights = np.array([65.4,56.7,73.8,65.4,49.8])




for height in heights:
    print(height)


data = np.array([heights,weights])

for val in data:
    print(val)


for val in np.nditer(data):
    print(val)





df = pd.read_csv('../datasets/countries.csv', index_col=0)




for x in df:
    print(x)


for x in df.iterrows():
    print(x)


for label,row in df.iterrows():
    print(label)
    print(row)


for label,row in df.iterrows():
    print(label)
    print(row['population'])


for label,row in df.iterrows():
    print(f"{label}: {row['population']}")





# add a column that is the count of characters in the country name

for label, row in df.iterrows():
    df.loc[label, 'name_length'] = len(row['country'])

df




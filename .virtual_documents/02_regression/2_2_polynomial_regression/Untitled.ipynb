import pandas as pd
import numpy as np
import matplotlib.pyplot as plt
from sklearn.linear_model import LinearRegression
from sklearn.model_selection import train_test_split





df = pd.read_csv('polynomial_regression_dataset.csv')

df.head()





df['input_squared'] = df['input']**2

df['input_cubed'] = df['input']**3


df.head()





X = df[['input', 'input_squared', 'input_cubed']] # store input values in X

y = df['target'] # store target values in y

train_X, test_X, train_y, test_y = train_test_split(X, y, test_size = 0.3, random_state = 1) 

# 70 % training and 30% for testing the model





lin_reg_1 = LinearRegression().fit(train_X[['input']], train_y)


print(f"Y = {lin_reg_1.intercept_:.3f} + {lin_reg_1.coef_[0]:.3f}x")

r2_1st_order = lin_reg_1.score(test_X[['input']],test_y)
print(f"Coefficient of Determination: {r2_1st_order:.8f}")





lin_reg_2 = LinearRegression().fit(train_X[['input', 'input_squared']], train_y)

print(f"Y = {lin_reg_2.intercept_:.3f} + {lin_reg_2.coef_[0]:.3f}x + {lin_reg_2.coef_[1]:.3f}x^2")

r2_2nd_order = lin_reg_2.score(test_X[['input', 'input_squared']], test_y)

print(f"Coefficient of Determination : {r2_2nd_order:.8f}")





lin_reg_3 = LinearRegression().fit(train_X[['input', 'input_squared', 'input_cubed']], train_y)

print(f" Y = {lin_reg_3.intercept_:.8f} + {lin_reg_3.coef_[0]:.3f}x + {lin_reg_3.coef_[1]:.3f}x^2 + {lin_reg_3.coef_[2]:.3f}x^3")

r2_3rd_order = lin_reg_3.score(test_X[['input', 'input_squared', 'input_cubed']], test_y)

print(f'Coefficient of Determination: {r2_3rd_order:.8f}')





fig,ax = plt.subplots(3)

ax[0].scatter(x = test_X[['input']], y = test_y, color = 'blue')
ax[0].scatter(x = test_X[['input']], y = lin_reg_1.predict(test_X[['input']]), color = 'red')
ax[0].set_xlabel("Original Input")
ax[0].set_ylabel("Target values")

ax[1].scatter(x = test_X[['input']] , y = test_y , color = 'blue')
ax[1].scatter(x = test_X[['input']], y = lin_reg_2.predict(test_X[['input', 'input_squared']]), color = 'red')
ax[1].set_xlabel('Input Squared')
ax[1].set_ylabel('Target values')

ax[2].scatter(x = test_X[['input']] , y = test_y , color = 'blue')
ax[2].scatter(x = test_X[['input']], y = lin_reg_3.predict(test_X[['input', 'input_squared', 'input_cubed']]), color = 'red')
ax[2].set_xlabel('Input Cubed')
ax[2].set_ylabel('Target values')

plt.show()



print(f"{'1st order model':18s}{r2_1st_order:>.8f}")
print(f"{'2nd order model':18s}{r2_2nd_order:>.8f}")
print(f"{'3rd order model':18s}{r2_3rd_order:>.8f}")




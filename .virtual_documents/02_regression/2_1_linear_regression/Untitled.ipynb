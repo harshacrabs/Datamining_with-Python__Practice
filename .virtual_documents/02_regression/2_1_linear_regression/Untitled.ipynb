


import seaborn as sns
import matplotlib.pyplot as plt
import pandas as pd
import numpy as np
from sklearn.linear_model import LinearRegression
import math as m


data = pd.read_csv('world_population_data.csv')

data.head()


for col_name in data.columns:
    col_name.lower()



data.columns





data['World_Population'] = data['World_Population'].str.replace(',' , '')

data.head()





data['World_Population'] = data['World_Population'].astype(int)

data.info()





data['log_pop'] = [m.log(x) for x in data['World_Population']]


data





data_filtered = data[data['Year']>0]





data_filtered.sort_values(by=['Year'], ascending = True)





(sns.scatterplot(x = data_filtered['Year'],
                y = data_filtered['log_pop'],
                color = 'blue')
 .set(title = 'Log_population vs Year'))





X = data_filtered.iloc[:,0:1]

X


X.values


y = data_filtered.iloc[:,2].values


lin_reg = LinearRegression().fit(X,y)





plt.scatter(X,y,color='blue')
plt.plot(X,lin_reg.predict(X), color= 'red')
plt.title('Linear Regression')
plt.xlabel('Input Values')
plt.ylabel('Target Values')
plt.show()




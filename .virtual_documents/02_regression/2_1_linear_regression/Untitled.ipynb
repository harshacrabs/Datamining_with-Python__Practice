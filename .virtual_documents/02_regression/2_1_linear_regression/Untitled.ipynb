import pandas as pd
import numpy as np
import matplotlib.pyplot as plt
from sklearn.linear_model import LinearRegression

np.random.seed(42)





df = pd.read_csv('reg_synthetic_dataset.csv')

df


X = df.iloc[:,0:1].values #this is a dataframe
y = df.iloc[:,1].values #this is a series








X[:5]


y[:5]





plt.scatter(X,y,color= 'red')
plt.title('Some data')
plt.xlabel('Input values')
plt.ylabel('Output values')
plt.show()





lin_reg = LinearRegression().fit(X,y)


plt.scatter(X,y,color = 'red')
plt.plot(X, lin_reg.predict(X), color='blue')
plt.title('Linear Regression')
plt.xlabel('Input values')
plt.ylabel('Target values')
plt.show()


print(f"Y = {lin_reg.intercept_} + {lin_reg.coef_[0]}x")
print(f"Coefficient of Determination: {lin_reg.score(X,y)}")


print(f"Y= {lin_reg.intercept_:.2f} + {lin_reg.coef_[0]:.2f}x")
print(f"Coefficient of Determination: {lin_reg.score(X,y):.2f}")




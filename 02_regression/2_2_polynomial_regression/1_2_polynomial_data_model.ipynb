{
 "cells": [
  {
   "cell_type": "code",
   "execution_count": 1,
   "id": "ad90ada5-40ca-4d20-9a64-b4eab4fba5ab",
   "metadata": {},
   "outputs": [],
   "source": [
    "import pandas as pd\n",
    "import numpy as np\n",
    "import matplotlib.pyplot as plt\n",
    "from sklearn.linear_model import LinearRegression\n",
    "from sklearn.model_selection import train_test_split"
   ]
  },
  {
   "cell_type": "markdown",
   "id": "db5cb1f3-a5c8-4b3e-98ec-3f220ffd80ed",
   "metadata": {},
   "source": [
    "## Read the data"
   ]
  },
  {
   "cell_type": "code",
   "execution_count": 4,
   "id": "df576716-b8f1-49a3-982c-26f2aa410a21",
   "metadata": {},
   "outputs": [
    {
     "data": {
      "text/html": [
       "<div>\n",
       "<style scoped>\n",
       "    .dataframe tbody tr th:only-of-type {\n",
       "        vertical-align: middle;\n",
       "    }\n",
       "\n",
       "    .dataframe tbody tr th {\n",
       "        vertical-align: top;\n",
       "    }\n",
       "\n",
       "    .dataframe thead th {\n",
       "        text-align: right;\n",
       "    }\n",
       "</style>\n",
       "<table border=\"1\" class=\"dataframe\">\n",
       "  <thead>\n",
       "    <tr style=\"text-align: right;\">\n",
       "      <th></th>\n",
       "      <th>input</th>\n",
       "      <th>target</th>\n",
       "    </tr>\n",
       "  </thead>\n",
       "  <tbody>\n",
       "    <tr>\n",
       "      <th>0</th>\n",
       "      <td>-38.16</td>\n",
       "      <td>1721.36840</td>\n",
       "    </tr>\n",
       "    <tr>\n",
       "      <th>1</th>\n",
       "      <td>-17.21</td>\n",
       "      <td>325.61115</td>\n",
       "    </tr>\n",
       "    <tr>\n",
       "      <th>2</th>\n",
       "      <td>-8.27</td>\n",
       "      <td>54.33435</td>\n",
       "    </tr>\n",
       "    <tr>\n",
       "      <th>3</th>\n",
       "      <td>37.75</td>\n",
       "      <td>2502.12875</td>\n",
       "    </tr>\n",
       "    <tr>\n",
       "      <th>4</th>\n",
       "      <td>11.13</td>\n",
       "      <td>-82.54965</td>\n",
       "    </tr>\n",
       "  </tbody>\n",
       "</table>\n",
       "</div>"
      ],
      "text/plain": [
       "   input      target\n",
       "0 -38.16  1721.36840\n",
       "1 -17.21   325.61115\n",
       "2  -8.27    54.33435\n",
       "3  37.75  2502.12875\n",
       "4  11.13   -82.54965"
      ]
     },
     "execution_count": 4,
     "metadata": {},
     "output_type": "execute_result"
    }
   ],
   "source": [
    "df = pd.read_csv('polynomial_regression_dataset.csv')\n",
    "\n",
    "df.head()"
   ]
  },
  {
   "cell_type": "markdown",
   "id": "f7ae5f7d-0c21-46a9-b440-15e3d3fe0b8b",
   "metadata": {},
   "source": [
    "## Creating two new columns in the data frame"
   ]
  },
  {
   "cell_type": "code",
   "execution_count": 6,
   "id": "79bd0983-0ecb-40dc-92e0-9dfa8c85bd21",
   "metadata": {},
   "outputs": [],
   "source": [
    "df['input_squared'] = df['input']**2\n",
    "\n",
    "df['input_cubed'] = df['input']**3"
   ]
  },
  {
   "cell_type": "code",
   "execution_count": 8,
   "id": "3f52772e-3b7d-44ed-b066-678ff3d1339f",
   "metadata": {},
   "outputs": [
    {
     "data": {
      "text/html": [
       "<div>\n",
       "<style scoped>\n",
       "    .dataframe tbody tr th:only-of-type {\n",
       "        vertical-align: middle;\n",
       "    }\n",
       "\n",
       "    .dataframe tbody tr th {\n",
       "        vertical-align: top;\n",
       "    }\n",
       "\n",
       "    .dataframe thead th {\n",
       "        text-align: right;\n",
       "    }\n",
       "</style>\n",
       "<table border=\"1\" class=\"dataframe\">\n",
       "  <thead>\n",
       "    <tr style=\"text-align: right;\">\n",
       "      <th></th>\n",
       "      <th>input</th>\n",
       "      <th>target</th>\n",
       "      <th>input_squared</th>\n",
       "      <th>input_cubed</th>\n",
       "    </tr>\n",
       "  </thead>\n",
       "  <tbody>\n",
       "    <tr>\n",
       "      <th>0</th>\n",
       "      <td>-38.16</td>\n",
       "      <td>1721.36840</td>\n",
       "      <td>1456.1856</td>\n",
       "      <td>-55568.042496</td>\n",
       "    </tr>\n",
       "    <tr>\n",
       "      <th>1</th>\n",
       "      <td>-17.21</td>\n",
       "      <td>325.61115</td>\n",
       "      <td>296.1841</td>\n",
       "      <td>-5097.328361</td>\n",
       "    </tr>\n",
       "    <tr>\n",
       "      <th>2</th>\n",
       "      <td>-8.27</td>\n",
       "      <td>54.33435</td>\n",
       "      <td>68.3929</td>\n",
       "      <td>-565.609283</td>\n",
       "    </tr>\n",
       "    <tr>\n",
       "      <th>3</th>\n",
       "      <td>37.75</td>\n",
       "      <td>2502.12875</td>\n",
       "      <td>1425.0625</td>\n",
       "      <td>53796.109375</td>\n",
       "    </tr>\n",
       "    <tr>\n",
       "      <th>4</th>\n",
       "      <td>11.13</td>\n",
       "      <td>-82.54965</td>\n",
       "      <td>123.8769</td>\n",
       "      <td>1378.749897</td>\n",
       "    </tr>\n",
       "  </tbody>\n",
       "</table>\n",
       "</div>"
      ],
      "text/plain": [
       "   input      target  input_squared   input_cubed\n",
       "0 -38.16  1721.36840      1456.1856 -55568.042496\n",
       "1 -17.21   325.61115       296.1841  -5097.328361\n",
       "2  -8.27    54.33435        68.3929   -565.609283\n",
       "3  37.75  2502.12875      1425.0625  53796.109375\n",
       "4  11.13   -82.54965       123.8769   1378.749897"
      ]
     },
     "execution_count": 8,
     "metadata": {},
     "output_type": "execute_result"
    }
   ],
   "source": [
    "df.head()"
   ]
  },
  {
   "cell_type": "markdown",
   "id": "69bd7218-c51a-4a7d-a3e5-0345e7835e75",
   "metadata": {},
   "source": [
    "## Partitioning the data into Training and Test set"
   ]
  },
  {
   "cell_type": "code",
   "execution_count": 14,
   "id": "744f96ed-8f29-4f93-bd5b-009392794d10",
   "metadata": {},
   "outputs": [],
   "source": [
    "X = df[['input', 'input_squared', 'input_cubed']] # store input values in X\n",
    "\n",
    "y = df['target'] # store target values in y\n",
    "\n",
    "train_X, test_X, train_y, test_y = train_test_split(X, y, test_size = 0.3, random_state = 1) \n",
    "\n",
    "# 70 % training and 30% for testing the model"
   ]
  },
  {
   "cell_type": "markdown",
   "id": "7a9ecbab-51ec-469e-a4de-acb45bcaa7a6",
   "metadata": {},
   "source": [
    "## Fitting the linear regression model-Linear model"
   ]
  },
  {
   "cell_type": "code",
   "execution_count": 17,
   "id": "bbd282a7-d295-4f25-b0b4-03eae19e7023",
   "metadata": {},
   "outputs": [],
   "source": [
    "lin_reg_1 = LinearRegression().fit(train_X[['input']], train_y)"
   ]
  },
  {
   "cell_type": "code",
   "execution_count": 21,
   "id": "ffea74d5-2056-442a-9264-6c5193016f7a",
   "metadata": {},
   "outputs": [
    {
     "name": "stdout",
     "output_type": "stream",
     "text": [
      "Y = 612.850 + 3.845x\n",
      "Coefficient of Determination: 0.02812716\n"
     ]
    }
   ],
   "source": [
    "print(f\"Y = {lin_reg_1.intercept_:.3f} + {lin_reg_1.coef_[0]:.3f}x\")\n",
    "\n",
    "r2_1st_order = lin_reg_1.score(test_X[['input']],test_y)\n",
    "print(f\"Coefficient of Determination: {r2_1st_order:.8f}\")"
   ]
  },
  {
   "cell_type": "markdown",
   "id": "e56b3668-44f8-40c8-9a90-eaff8106578f",
   "metadata": {},
   "source": [
    "## Fitting the linear regression model- 2nd Order equation"
   ]
  },
  {
   "cell_type": "code",
   "execution_count": 27,
   "id": "b6a23ea7-fbe2-4fe2-9e06-02006ad50f84",
   "metadata": {},
   "outputs": [
    {
     "name": "stdout",
     "output_type": "stream",
     "text": [
      "Y = -38.946 + 7.085x + 1.548x^2\n",
      "Coefficient of Determination : 0.93450669\n"
     ]
    }
   ],
   "source": [
    "lin_reg_2 = LinearRegression().fit(train_X[['input', 'input_squared']], train_y)\n",
    "\n",
    "print(f\"Y = {lin_reg_2.intercept_:.3f} + {lin_reg_2.coef_[0]:.3f}x + {lin_reg_2.coef_[1]:.3f}x^2\")\n",
    "\n",
    "r2_2nd_order = lin_reg_2.score(test_X[['input', 'input_squared']], test_y)\n",
    "\n",
    "print(f\"Coefficient of Determination : {r2_2nd_order:.8f}\")"
   ]
  },
  {
   "cell_type": "markdown",
   "id": "07bf14c0-97c1-43c2-a794-db5a5557972d",
   "metadata": {},
   "source": [
    "## Fitting the linear regression model- 3rd Order equation"
   ]
  },
  {
   "cell_type": "code",
   "execution_count": 36,
   "id": "14cbd339-8903-4ef6-8f14-4d08e1a8a6ad",
   "metadata": {},
   "outputs": [
    {
     "name": "stdout",
     "output_type": "stream",
     "text": [
      " Y = -39.00220489 + 6.397x + 1.549x^2 + 0.001x^3\n",
      "Coefficient of Determination: 0.93471424\n"
     ]
    }
   ],
   "source": [
    "lin_reg_3 = LinearRegression().fit(train_X[['input', 'input_squared', 'input_cubed']], train_y)\n",
    "\n",
    "print(f\" Y = {lin_reg_3.intercept_:.8f} + {lin_reg_3.coef_[0]:.3f}x + {lin_reg_3.coef_[1]:.3f}x^2 + {lin_reg_3.coef_[2]:.3f}x^3\")\n",
    "\n",
    "r2_3rd_order = lin_reg_3.score(test_X[['input', 'input_squared', 'input_cubed']], test_y)\n",
    "\n",
    "print(f'Coefficient of Determination: {r2_3rd_order:.8f}')"
   ]
  },
  {
   "cell_type": "markdown",
   "id": "14434a88-155a-4572-b7fa-20b82d6753a5",
   "metadata": {},
   "source": [
    "## Plot all the three polynomials"
   ]
  },
  {
   "cell_type": "code",
   "execution_count": 43,
   "id": "b0bd079f-d8e0-45f0-972b-a8da790af64b",
   "metadata": {},
   "outputs": [
    {
     "data": {
      "image/png": "[encoded data removed]",
      "text/plain": [
       "<Figure size 640x480 with 3 Axes>"
      ]
     },
     "metadata": {},
     "output_type": "display_data"
    }
   ],
   "source": [
    "fig,ax = plt.subplots(3)\n",
    "\n",
    "ax[0].scatter(x = test_X[['input']], y = test_y, color = 'blue')\n",
    "ax[0].scatter(x = test_X[['input']], y = lin_reg_1.predict(test_X[['input']]), color = 'red')\n",
    "ax[0].set_xlabel(\"Original Input\")\n",
    "ax[0].set_ylabel(\"Target values\")\n",
    "\n",
    "ax[1].scatter(x = test_X[['input']] , y = test_y , color = 'blue')\n",
    "ax[1].scatter(x = test_X[['input']], y = lin_reg_2.predict(test_X[['input', 'input_squared']]), color = 'red')\n",
    "ax[1].set_xlabel('Input Squared')\n",
    "ax[1].set_ylabel('Target values')\n",
    "\n",
    "ax[2].scatter(x = test_X[['input']] , y = test_y , color = 'blue')\n",
    "ax[2].scatter(x = test_X[['input']], y = lin_reg_3.predict(test_X[['input', 'input_squared', 'input_cubed']]), color = 'red')\n",
    "ax[2].set_xlabel('Input Cubed')\n",
    "ax[2].set_ylabel('Target values')\n",
    "\n",
    "plt.show()\n"
   ]
  },
  {
   "cell_type": "code",
   "execution_count": 45,
   "id": "f38a66b4-6f10-4638-bca7-6344731c2fd3",
   "metadata": {},
   "outputs": [
    {
     "name": "stdout",
     "output_type": "stream",
     "text": [
      "1st order model   0.02812716\n",
      "2nd order model   0.93450669\n",
      "3rd order model   0.93471424\n"
     ]
    }
   ],
   "source": [
    "print(f\"{'1st order model':18s}{r2_1st_order:>.8f}\")\n",
    "print(f\"{'2nd order model':18s}{r2_2nd_order:>.8f}\")\n",
    "print(f\"{'3rd order model':18s}{r2_3rd_order:>.8f}\")"
   ]
  },
  {
   "cell_type": "code",
   "execution_count": null,
   "id": "af2ed0f7-756b-4ad2-b530-21d28926c971",
   "metadata": {},
   "outputs": [],
   "source": []
  }
 ],
 "metadata": {
  "kernelspec": {
   "display_name": "Python 3 (ipykernel)",
   "language": "python",
   "name": "python3"
  },
  "language_info": {
   "codemirror_mode": {
    "name": "ipython",
    "version": 3
   },
   "file_extension": ".py",
   "mimetype": "text/x-python",
   "name": "python",
   "nbconvert_exporter": "python",
   "pygments_lexer": "ipython3",
   "version": "3.12.4"
  }
 },
 "nbformat": 4,
 "nbformat_minor": 5
}

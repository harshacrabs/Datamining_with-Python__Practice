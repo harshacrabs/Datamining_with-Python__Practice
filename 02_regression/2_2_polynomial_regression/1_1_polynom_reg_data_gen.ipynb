{
 "cells": [
  {
   "cell_type": "code",
   "execution_count": 1,
   "id": "33522a80-0720-4a93-bc29-9e3813a10d75",
   "metadata": {},
   "outputs": [],
   "source": [
    "import pandas as pd\n",
    "import matplotlib.pyplot as plt\n",
    "import numpy as np\n",
    "\n",
    "np.random.seed(42)\n",
    "\n",
    "sample_size = 1000\n"
   ]
  },
  {
   "cell_type": "markdown",
   "id": "dbc5fe30-c541-4f59-9f0c-0b5f0e6cffe5",
   "metadata": {},
   "source": [
    "## Initializing parameters for the polynomial model"
   ]
  },
  {
   "cell_type": "code",
   "execution_count": 6,
   "id": "89b1d931-b3a2-4d9a-a637-160c42efcf1e",
   "metadata": {},
   "outputs": [],
   "source": [
    "b2 =1.5 #slope for x^2\n",
    " \n",
    "b1 = 6.5 #slope for x\n",
    "\n",
    "b0 = 1 #intercept\n",
    "\n",
    "\n",
    "# target = b0 + b1 * input + b2 * input^2 # polynomial"
   ]
  },
  {
   "cell_type": "code",
   "execution_count": 22,
   "id": "f68f7c27-8a72-4547-8210-52c2948affc9",
   "metadata": {},
   "outputs": [],
   "source": [
    "X = np.round(np.random.normal(0,20.0,sample_size),2)\n",
    "\n",
    "y = b0 + b1 * X + b2 * X**2"
   ]
  },
  {
   "cell_type": "markdown",
   "id": "0ae9f5ce-998a-465a-9ea8-b68d79b27761",
   "metadata": {},
   "source": [
    "## Introducing noise (Error)"
   ]
  },
  {
   "cell_type": "code",
   "execution_count": 25,
   "id": "c56e5564-6713-4586-acf3-052a277903e2",
   "metadata": {},
   "outputs": [],
   "source": [
    "e = np.round(np.random.normal(0,250,sample_size),2)\n",
    "\n",
    "Y = y + e"
   ]
  },
  {
   "cell_type": "markdown",
   "id": "44ea50e0-c795-4359-9959-9ba4e7d3d96a",
   "metadata": {},
   "source": [
    "## Plotting the polynomial"
   ]
  },
  {
   "cell_type": "code",
   "execution_count": 28,
   "id": "ccf1a463-6fbc-4b22-8eb9-78af080519d8",
   "metadata": {},
   "outputs": [
    {
     "data": {
      "image/png": "[encoded data removed]",
      "text/plain": [
       "<Figure size 640x480 with 1 Axes>"
      ]
     },
     "metadata": {},
     "output_type": "display_data"
    }
   ],
   "source": [
    "plt.scatter(X,Y)\n",
    "plt.show()"
   ]
  },
  {
   "cell_type": "code",
   "execution_count": 30,
   "id": "bbcaa40c-eff0-4b2c-8267-2090b3734df6",
   "metadata": {},
   "outputs": [
    {
     "data": {
      "text/html": [
       "<div>\n",
       "<style scoped>\n",
       "    .dataframe tbody tr th:only-of-type {\n",
       "        vertical-align: middle;\n",
       "    }\n",
       "\n",
       "    .dataframe tbody tr th {\n",
       "        vertical-align: top;\n",
       "    }\n",
       "\n",
       "    .dataframe thead th {\n",
       "        text-align: right;\n",
       "    }\n",
       "</style>\n",
       "<table border=\"1\" class=\"dataframe\">\n",
       "  <thead>\n",
       "    <tr style=\"text-align: right;\">\n",
       "      <th></th>\n",
       "      <th>input</th>\n",
       "      <th>target</th>\n",
       "    </tr>\n",
       "  </thead>\n",
       "  <tbody>\n",
       "    <tr>\n",
       "      <th>0</th>\n",
       "      <td>-38.16</td>\n",
       "      <td>1721.36840</td>\n",
       "    </tr>\n",
       "    <tr>\n",
       "      <th>1</th>\n",
       "      <td>-17.21</td>\n",
       "      <td>325.61115</td>\n",
       "    </tr>\n",
       "    <tr>\n",
       "      <th>2</th>\n",
       "      <td>-8.27</td>\n",
       "      <td>54.33435</td>\n",
       "    </tr>\n",
       "    <tr>\n",
       "      <th>3</th>\n",
       "      <td>37.75</td>\n",
       "      <td>2502.12875</td>\n",
       "    </tr>\n",
       "    <tr>\n",
       "      <th>4</th>\n",
       "      <td>11.13</td>\n",
       "      <td>-82.54965</td>\n",
       "    </tr>\n",
       "  </tbody>\n",
       "</table>\n",
       "</div>"
      ],
      "text/plain": [
       "   input      target\n",
       "0 -38.16  1721.36840\n",
       "1 -17.21   325.61115\n",
       "2  -8.27    54.33435\n",
       "3  37.75  2502.12875\n",
       "4  11.13   -82.54965"
      ]
     },
     "execution_count": 30,
     "metadata": {},
     "output_type": "execute_result"
    }
   ],
   "source": [
    "import pandas as pd\n",
    "\n",
    "df = pd.DataFrame({'input' : X , 'target' : Y})\n",
    "\n",
    "df.head()"
   ]
  },
  {
   "cell_type": "code",
   "execution_count": 32,
   "id": "9a146568-5802-4260-a227-8f1b0c0d2493",
   "metadata": {},
   "outputs": [],
   "source": [
    "df.to_csv('polynomial_regression_dataset.csv', index = False)"
   ]
  },
  {
   "cell_type": "code",
   "execution_count": null,
   "id": "1b8b00a0-0fa8-456b-be13-49e6cfa52516",
   "metadata": {},
   "outputs": [],
   "source": []
  }
 ],
 "metadata": {
  "kernelspec": {
   "display_name": "Python 3 (ipykernel)",
   "language": "python",
   "name": "python3"
  },
  "language_info": {
   "codemirror_mode": {
    "name": "ipython",
    "version": 3
   },
   "file_extension": ".py",
   "mimetype": "text/x-python",
   "name": "python",
   "nbconvert_exporter": "python",
   "pygments_lexer": "ipython3",
   "version": "3.12.4"
  }
 },
 "nbformat": 4,
 "nbformat_minor": 5
}

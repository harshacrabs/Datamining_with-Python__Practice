import pandas as pd
import matplotlib.pyplot as plt
import numpy as np

np.random.seed(42)

sample_size = 1000






b2 =1.5 #slope for x^2
 
b1 = 6.5 #slope for x

b0 = 1 #intercept


# target = b0 + b1 * input + b2 * input^2 # polynomial


X = np.round(np.random.normal(0,20.0,sample_size),2)

y = b0 + b1 * X + b2 * X**2





e = np.round(np.random.normal(0,250,sample_size),2)

Y = y + e





plt.scatter(X,Y)
plt.show()


import pandas as pd

df = pd.DataFrame({'input' : X , 'target' : Y})

df.head()


df.to_csv('polynomial_regression_dataset.csv', index = False)




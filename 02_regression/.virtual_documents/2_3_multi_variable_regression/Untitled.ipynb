


import matplotlib.pyplot as plt
import seaborn as sns
import numpy as np
import pandas as pd
from sklearn.linear_model import LinearRegression
from sklearn.model_selection import train_test_split





df = pd.read_csv('dataset_multivariable_regression.csv')

df.head(5)





sns.pairplot(df)
plt.show








df.columns


list(df.columns)


column_list = list(df.columns)

column_list.remove('target')

X = df[column_list]
y = df['target']


multivar_lin_reg = LinearRegression().fit(X,y)





print(f"Y = {multivar_lin_reg.intercept_:.3f} + {multivar_lin_reg.coef_[0]:.3f}x1 + \
{multivar_lin_reg.coef_[1]:.3f} x2 + \
{multivar_lin_reg.coef_[2]:.3f} x3 + \
{multivar_lin_reg.coef_[3]:.3f} x4")

print(f'coefficient of determination : {multivar_lin_reg.score(X,y):.8f}')






sns.pairplot(df, kind = 'reg', corner = True, plot_kws = {'line_kws' : {'color': 'red'}})




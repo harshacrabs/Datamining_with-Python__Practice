{
 "cells": [
  {
   "cell_type": "markdown",
   "id": "050c73d1-4b12-4174-945e-e6da63a41f8d",
   "metadata": {},
   "source": [
    "## Import necessary libraries"
   ]
  },
  {
   "cell_type": "code",
   "execution_count": 2,
   "id": "4351d74f-6c79-42ad-810e-603f781835c8",
   "metadata": {},
   "outputs": [],
   "source": [
    "import seaborn as sns\n",
    "import matplotlib.pyplot as plt\n",
    "import pandas as pd\n",
    "import numpy as np\n",
    "from sklearn.linear_model import LinearRegression\n",
    "import math as m"
   ]
  },
  {
   "cell_type": "code",
   "execution_count": 5,
   "id": "59f3d567-4f81-4aa8-a8e6-b48f1591ec18",
   "metadata": {},
   "outputs": [
    {
     "data": {
      "text/html": [
       "<div>\n",
       "<style scoped>\n",
       "    .dataframe tbody tr th:only-of-type {\n",
       "        vertical-align: middle;\n",
       "    }\n",
       "\n",
       "    .dataframe tbody tr th {\n",
       "        vertical-align: top;\n",
       "    }\n",
       "\n",
       "    .dataframe thead th {\n",
       "        text-align: right;\n",
       "    }\n",
       "</style>\n",
       "<table border=\"1\" class=\"dataframe\">\n",
       "  <thead>\n",
       "    <tr style=\"text-align: right;\">\n",
       "      <th></th>\n",
       "      <th>Year</th>\n",
       "      <th>World_Population</th>\n",
       "    </tr>\n",
       "  </thead>\n",
       "  <tbody>\n",
       "    <tr>\n",
       "      <th>0</th>\n",
       "      <td>2020</td>\n",
       "      <td>7,794,798,739</td>\n",
       "    </tr>\n",
       "    <tr>\n",
       "      <th>1</th>\n",
       "      <td>2019</td>\n",
       "      <td>7,713,468,100</td>\n",
       "    </tr>\n",
       "    <tr>\n",
       "      <th>2</th>\n",
       "      <td>2018</td>\n",
       "      <td>7,631,091,040</td>\n",
       "    </tr>\n",
       "    <tr>\n",
       "      <th>3</th>\n",
       "      <td>2017</td>\n",
       "      <td>7,547,858,925</td>\n",
       "    </tr>\n",
       "    <tr>\n",
       "      <th>4</th>\n",
       "      <td>2016</td>\n",
       "      <td>7,464,022,049</td>\n",
       "    </tr>\n",
       "  </tbody>\n",
       "</table>\n",
       "</div>"
      ],
      "text/plain": [
       "   Year World_Population\n",
       "0  2020    7,794,798,739\n",
       "1  2019    7,713,468,100\n",
       "2  2018    7,631,091,040\n",
       "3  2017    7,547,858,925\n",
       "4  2016    7,464,022,049"
      ]
     },
     "execution_count": 5,
     "metadata": {},
     "output_type": "execute_result"
    }
   ],
   "source": [
    "data = pd.read_csv('world_population_data.csv')\n",
    "\n",
    "data.head()"
   ]
  },
  {
   "cell_type": "code",
   "execution_count": 7,
   "id": "9dcdab2e-eb8b-4b52-9541-c36dc120e2fb",
   "metadata": {},
   "outputs": [],
   "source": [
    "for col_name in data.columns:\n",
    "    col_name.lower()\n"
   ]
  },
  {
   "cell_type": "code",
   "execution_count": 9,
   "id": "f54ae4d9-a6c9-43a7-89db-0cd65633ebb2",
   "metadata": {},
   "outputs": [
    {
     "data": {
      "text/plain": [
       "Index(['Year', 'World_Population'], dtype='object')"
      ]
     },
     "execution_count": 9,
     "metadata": {},
     "output_type": "execute_result"
    }
   ],
   "source": [
    "data.columns"
   ]
  },
  {
   "cell_type": "markdown",
   "id": "512e47e9-561b-4563-a017-2d08b800a182",
   "metadata": {},
   "source": [
    "## Changing the data type of world_population column"
   ]
  },
  {
   "cell_type": "code",
   "execution_count": 13,
   "id": "f76d94c7-71af-4845-b1fc-df9362c0f3b9",
   "metadata": {},
   "outputs": [
    {
     "data": {
      "text/html": [
       "<div>\n",
       "<style scoped>\n",
       "    .dataframe tbody tr th:only-of-type {\n",
       "        vertical-align: middle;\n",
       "    }\n",
       "\n",
       "    .dataframe tbody tr th {\n",
       "        vertical-align: top;\n",
       "    }\n",
       "\n",
       "    .dataframe thead th {\n",
       "        text-align: right;\n",
       "    }\n",
       "</style>\n",
       "<table border=\"1\" class=\"dataframe\">\n",
       "  <thead>\n",
       "    <tr style=\"text-align: right;\">\n",
       "      <th></th>\n",
       "      <th>Year</th>\n",
       "      <th>World_Population</th>\n",
       "    </tr>\n",
       "  </thead>\n",
       "  <tbody>\n",
       "    <tr>\n",
       "      <th>0</th>\n",
       "      <td>2020</td>\n",
       "      <td>7794798739</td>\n",
       "    </tr>\n",
       "    <tr>\n",
       "      <th>1</th>\n",
       "      <td>2019</td>\n",
       "      <td>7713468100</td>\n",
       "    </tr>\n",
       "    <tr>\n",
       "      <th>2</th>\n",
       "      <td>2018</td>\n",
       "      <td>7631091040</td>\n",
       "    </tr>\n",
       "    <tr>\n",
       "      <th>3</th>\n",
       "      <td>2017</td>\n",
       "      <td>7547858925</td>\n",
       "    </tr>\n",
       "    <tr>\n",
       "      <th>4</th>\n",
       "      <td>2016</td>\n",
       "      <td>7464022049</td>\n",
       "    </tr>\n",
       "  </tbody>\n",
       "</table>\n",
       "</div>"
      ],
      "text/plain": [
       "   Year World_Population\n",
       "0  2020       7794798739\n",
       "1  2019       7713468100\n",
       "2  2018       7631091040\n",
       "3  2017       7547858925\n",
       "4  2016       7464022049"
      ]
     },
     "execution_count": 13,
     "metadata": {},
     "output_type": "execute_result"
    }
   ],
   "source": [
    "data['World_Population'] = data['World_Population'].str.replace(',' , '')\n",
    "\n",
    "data.head()"
   ]
  },
  {
   "cell_type": "markdown",
   "id": "b5c13b59-98fc-47be-b32c-01a5158cdfde",
   "metadata": {},
   "source": [
    "## Changing datatype to integer"
   ]
  },
  {
   "cell_type": "code",
   "execution_count": 16,
   "id": "86c78be8-f8a0-4d73-8a8e-e6ad71d370c6",
   "metadata": {},
   "outputs": [
    {
     "name": "stdout",
     "output_type": "stream",
     "text": [
      "<class 'pandas.core.frame.DataFrame'>\n",
      "RangeIndex: 94 entries, 0 to 93\n",
      "Data columns (total 2 columns):\n",
      " #   Column            Non-Null Count  Dtype\n",
      "---  ------            --------------  -----\n",
      " 0   Year              94 non-null     int64\n",
      " 1   World_Population  94 non-null     int64\n",
      "dtypes: int64(2)\n",
      "memory usage: 1.6 KB\n"
     ]
    }
   ],
   "source": [
    "data['World_Population'] = data['World_Population'].astype(int)\n",
    "\n",
    "data.info()"
   ]
  },
  {
   "cell_type": "markdown",
   "id": "9093dd06-171e-4fd4-9080-1a6162dc2d03",
   "metadata": {},
   "source": [
    "## Creating a new column 'log_pop' which is the logarithm of population"
   ]
  },
  {
   "cell_type": "code",
   "execution_count": 21,
   "id": "5b6cd558-f1b3-474a-bb1d-0c788decb062",
   "metadata": {},
   "outputs": [],
   "source": [
    "data['log_pop'] = [m.log(x) for x in data['World_Population']]"
   ]
  },
  {
   "cell_type": "code",
   "execution_count": 23,
   "id": "0ecd2853-3206-4b76-a76f-47601a665f3f",
   "metadata": {},
   "outputs": [
    {
     "data": {
      "text/html": [
       "<div>\n",
       "<style scoped>\n",
       "    .dataframe tbody tr th:only-of-type {\n",
       "        vertical-align: middle;\n",
       "    }\n",
       "\n",
       "    .dataframe tbody tr th {\n",
       "        vertical-align: top;\n",
       "    }\n",
       "\n",
       "    .dataframe thead th {\n",
       "        text-align: right;\n",
       "    }\n",
       "</style>\n",
       "<table border=\"1\" class=\"dataframe\">\n",
       "  <thead>\n",
       "    <tr style=\"text-align: right;\">\n",
       "      <th></th>\n",
       "      <th>Year</th>\n",
       "      <th>World_Population</th>\n",
       "      <th>log_pop</th>\n",
       "    </tr>\n",
       "  </thead>\n",
       "  <tbody>\n",
       "    <tr>\n",
       "      <th>0</th>\n",
       "      <td>2020</td>\n",
       "      <td>7794798739</td>\n",
       "      <td>22.776723</td>\n",
       "    </tr>\n",
       "    <tr>\n",
       "      <th>1</th>\n",
       "      <td>2019</td>\n",
       "      <td>7713468100</td>\n",
       "      <td>22.766234</td>\n",
       "    </tr>\n",
       "    <tr>\n",
       "      <th>2</th>\n",
       "      <td>2018</td>\n",
       "      <td>7631091040</td>\n",
       "      <td>22.755497</td>\n",
       "    </tr>\n",
       "    <tr>\n",
       "      <th>3</th>\n",
       "      <td>2017</td>\n",
       "      <td>7547858925</td>\n",
       "      <td>22.744530</td>\n",
       "    </tr>\n",
       "    <tr>\n",
       "      <th>4</th>\n",
       "      <td>2016</td>\n",
       "      <td>7464022049</td>\n",
       "      <td>22.733360</td>\n",
       "    </tr>\n",
       "    <tr>\n",
       "      <th>...</th>\n",
       "      <td>...</td>\n",
       "      <td>...</td>\n",
       "      <td>...</td>\n",
       "    </tr>\n",
       "    <tr>\n",
       "      <th>89</th>\n",
       "      <td>-1000</td>\n",
       "      <td>50000000</td>\n",
       "      <td>17.727534</td>\n",
       "    </tr>\n",
       "    <tr>\n",
       "      <th>90</th>\n",
       "      <td>-2000</td>\n",
       "      <td>27000000</td>\n",
       "      <td>17.111347</td>\n",
       "    </tr>\n",
       "    <tr>\n",
       "      <th>91</th>\n",
       "      <td>-3000</td>\n",
       "      <td>14000000</td>\n",
       "      <td>16.454568</td>\n",
       "    </tr>\n",
       "    <tr>\n",
       "      <th>92</th>\n",
       "      <td>-4000</td>\n",
       "      <td>7000000</td>\n",
       "      <td>15.761421</td>\n",
       "    </tr>\n",
       "    <tr>\n",
       "      <th>93</th>\n",
       "      <td>-5000</td>\n",
       "      <td>5000000</td>\n",
       "      <td>15.424948</td>\n",
       "    </tr>\n",
       "  </tbody>\n",
       "</table>\n",
       "<p>94 rows × 3 columns</p>\n",
       "</div>"
      ],
      "text/plain": [
       "    Year  World_Population    log_pop\n",
       "0   2020        7794798739  22.776723\n",
       "1   2019        7713468100  22.766234\n",
       "2   2018        7631091040  22.755497\n",
       "3   2017        7547858925  22.744530\n",
       "4   2016        7464022049  22.733360\n",
       "..   ...               ...        ...\n",
       "89 -1000          50000000  17.727534\n",
       "90 -2000          27000000  17.111347\n",
       "91 -3000          14000000  16.454568\n",
       "92 -4000           7000000  15.761421\n",
       "93 -5000           5000000  15.424948\n",
       "\n",
       "[94 rows x 3 columns]"
      ]
     },
     "execution_count": 23,
     "metadata": {},
     "output_type": "execute_result"
    }
   ],
   "source": [
    "data"
   ]
  },
  {
   "cell_type": "markdown",
   "id": "6f736de7-ead9-4f6d-9962-65e165a5a87f",
   "metadata": {},
   "source": [
    "## Filtering data where year is greater than 0"
   ]
  },
  {
   "cell_type": "code",
   "execution_count": 26,
   "id": "f37afce5-2522-4db2-8b73-f030d0cf9cc7",
   "metadata": {},
   "outputs": [],
   "source": [
    "data_filtered = data[data['Year']>0]"
   ]
  },
  {
   "cell_type": "markdown",
   "id": "c76f0d05-5b6a-4b35-834c-4f2f6fba2329",
   "metadata": {},
   "source": [
    "## Sorting the data by the Year column"
   ]
  },
  {
   "cell_type": "code",
   "execution_count": 29,
   "id": "373fbe7e-1c2b-4313-8367-7f6228b92215",
   "metadata": {},
   "outputs": [
    {
     "data": {
      "text/html": [
       "<div>\n",
       "<style scoped>\n",
       "    .dataframe tbody tr th:only-of-type {\n",
       "        vertical-align: middle;\n",
       "    }\n",
       "\n",
       "    .dataframe tbody tr th {\n",
       "        vertical-align: top;\n",
       "    }\n",
       "\n",
       "    .dataframe thead th {\n",
       "        text-align: right;\n",
       "    }\n",
       "</style>\n",
       "<table border=\"1\" class=\"dataframe\">\n",
       "  <thead>\n",
       "    <tr style=\"text-align: right;\">\n",
       "      <th></th>\n",
       "      <th>Year</th>\n",
       "      <th>World_Population</th>\n",
       "      <th>log_pop</th>\n",
       "    </tr>\n",
       "  </thead>\n",
       "  <tbody>\n",
       "    <tr>\n",
       "      <th>86</th>\n",
       "      <td>200</td>\n",
       "      <td>190000000</td>\n",
       "      <td>19.062535</td>\n",
       "    </tr>\n",
       "    <tr>\n",
       "      <th>85</th>\n",
       "      <td>600</td>\n",
       "      <td>200000000</td>\n",
       "      <td>19.113828</td>\n",
       "    </tr>\n",
       "    <tr>\n",
       "      <th>84</th>\n",
       "      <td>700</td>\n",
       "      <td>210000000</td>\n",
       "      <td>19.162618</td>\n",
       "    </tr>\n",
       "    <tr>\n",
       "      <th>83</th>\n",
       "      <td>800</td>\n",
       "      <td>220000000</td>\n",
       "      <td>19.209138</td>\n",
       "    </tr>\n",
       "    <tr>\n",
       "      <th>82</th>\n",
       "      <td>900</td>\n",
       "      <td>240000000</td>\n",
       "      <td>19.296149</td>\n",
       "    </tr>\n",
       "    <tr>\n",
       "      <th>...</th>\n",
       "      <td>...</td>\n",
       "      <td>...</td>\n",
       "      <td>...</td>\n",
       "    </tr>\n",
       "    <tr>\n",
       "      <th>4</th>\n",
       "      <td>2016</td>\n",
       "      <td>7464022049</td>\n",
       "      <td>22.733360</td>\n",
       "    </tr>\n",
       "    <tr>\n",
       "      <th>3</th>\n",
       "      <td>2017</td>\n",
       "      <td>7547858925</td>\n",
       "      <td>22.744530</td>\n",
       "    </tr>\n",
       "    <tr>\n",
       "      <th>2</th>\n",
       "      <td>2018</td>\n",
       "      <td>7631091040</td>\n",
       "      <td>22.755497</td>\n",
       "    </tr>\n",
       "    <tr>\n",
       "      <th>1</th>\n",
       "      <td>2019</td>\n",
       "      <td>7713468100</td>\n",
       "      <td>22.766234</td>\n",
       "    </tr>\n",
       "    <tr>\n",
       "      <th>0</th>\n",
       "      <td>2020</td>\n",
       "      <td>7794798739</td>\n",
       "      <td>22.776723</td>\n",
       "    </tr>\n",
       "  </tbody>\n",
       "</table>\n",
       "<p>87 rows × 3 columns</p>\n",
       "</div>"
      ],
      "text/plain": [
       "    Year  World_Population    log_pop\n",
       "86   200         190000000  19.062535\n",
       "85   600         200000000  19.113828\n",
       "84   700         210000000  19.162618\n",
       "83   800         220000000  19.209138\n",
       "82   900         240000000  19.296149\n",
       "..   ...               ...        ...\n",
       "4   2016        7464022049  22.733360\n",
       "3   2017        7547858925  22.744530\n",
       "2   2018        7631091040  22.755497\n",
       "1   2019        7713468100  22.766234\n",
       "0   2020        7794798739  22.776723\n",
       "\n",
       "[87 rows x 3 columns]"
      ]
     },
     "execution_count": 29,
     "metadata": {},
     "output_type": "execute_result"
    }
   ],
   "source": [
    "data_filtered.sort_values(by=['Year'], ascending = True)"
   ]
  },
  {
   "cell_type": "markdown",
   "id": "fed84b9f-0491-4c54-8402-f5248308ddc7",
   "metadata": {},
   "source": [
    "## Creating a scatter plot"
   ]
  },
  {
   "cell_type": "code",
   "execution_count": 34,
   "id": "e19180b0-da1c-4a04-9280-78bfd85035cc",
   "metadata": {},
   "outputs": [
    {
     "data": {
      "text/plain": [
       "[Text(0.5, 1.0, 'Log_population vs Year')]"
      ]
     },
     "execution_count": 34,
     "metadata": {},
     "output_type": "execute_result"
    },
    {
     "data": {
      "image/png": "[encoded data removed]",
      "text/plain": [
       "<Figure size 640x480 with 1 Axes>"
      ]
     },
     "metadata": {},
     "output_type": "display_data"
    }
   ],
   "source": [
    "(sns.scatterplot(x = data_filtered['Year'],\n",
    "                y = data_filtered['log_pop'],\n",
    "                color = 'blue')\n",
    " .set(title = 'Log_population vs Year'))"
   ]
  },
  {
   "cell_type": "markdown",
   "id": "f9586dcd-1c5a-4c06-86d9-36a5ec5e1c89",
   "metadata": {},
   "source": [
    "## Applying linear regression"
   ]
  },
  {
   "cell_type": "code",
   "execution_count": 39,
   "id": "cfe4519e-ebd8-47c8-a0de-40e2136a3956",
   "metadata": {},
   "outputs": [
    {
     "data": {
      "text/html": [
       "<div>\n",
       "<style scoped>\n",
       "    .dataframe tbody tr th:only-of-type {\n",
       "        vertical-align: middle;\n",
       "    }\n",
       "\n",
       "    .dataframe tbody tr th {\n",
       "        vertical-align: top;\n",
       "    }\n",
       "\n",
       "    .dataframe thead th {\n",
       "        text-align: right;\n",
       "    }\n",
       "</style>\n",
       "<table border=\"1\" class=\"dataframe\">\n",
       "  <thead>\n",
       "    <tr style=\"text-align: right;\">\n",
       "      <th></th>\n",
       "      <th>Year</th>\n",
       "    </tr>\n",
       "  </thead>\n",
       "  <tbody>\n",
       "    <tr>\n",
       "      <th>0</th>\n",
       "      <td>2020</td>\n",
       "    </tr>\n",
       "    <tr>\n",
       "      <th>1</th>\n",
       "      <td>2019</td>\n",
       "    </tr>\n",
       "    <tr>\n",
       "      <th>2</th>\n",
       "      <td>2018</td>\n",
       "    </tr>\n",
       "    <tr>\n",
       "      <th>3</th>\n",
       "      <td>2017</td>\n",
       "    </tr>\n",
       "    <tr>\n",
       "      <th>4</th>\n",
       "      <td>2016</td>\n",
       "    </tr>\n",
       "    <tr>\n",
       "      <th>...</th>\n",
       "      <td>...</td>\n",
       "    </tr>\n",
       "    <tr>\n",
       "      <th>82</th>\n",
       "      <td>900</td>\n",
       "    </tr>\n",
       "    <tr>\n",
       "      <th>83</th>\n",
       "      <td>800</td>\n",
       "    </tr>\n",
       "    <tr>\n",
       "      <th>84</th>\n",
       "      <td>700</td>\n",
       "    </tr>\n",
       "    <tr>\n",
       "      <th>85</th>\n",
       "      <td>600</td>\n",
       "    </tr>\n",
       "    <tr>\n",
       "      <th>86</th>\n",
       "      <td>200</td>\n",
       "    </tr>\n",
       "  </tbody>\n",
       "</table>\n",
       "<p>87 rows × 1 columns</p>\n",
       "</div>"
      ],
      "text/plain": [
       "    Year\n",
       "0   2020\n",
       "1   2019\n",
       "2   2018\n",
       "3   2017\n",
       "4   2016\n",
       "..   ...\n",
       "82   900\n",
       "83   800\n",
       "84   700\n",
       "85   600\n",
       "86   200\n",
       "\n",
       "[87 rows x 1 columns]"
      ]
     },
     "execution_count": 39,
     "metadata": {},
     "output_type": "execute_result"
    }
   ],
   "source": [
    "X = data_filtered.iloc[:,0:1]\n",
    "\n",
    "X"
   ]
  },
  {
   "cell_type": "code",
   "execution_count": 41,
   "id": "e46ffd48-9743-4f09-87cb-aadf4eed84c0",
   "metadata": {},
   "outputs": [
    {
     "data": {
      "text/plain": [
       "array([[2020],\n",
       "       [2019],\n",
       "       [2018],\n",
       "       [2017],\n",
       "       [2016],\n",
       "       [2015],\n",
       "       [2014],\n",
       "       [2013],\n",
       "       [2012],\n",
       "       [2011],\n",
       "       [2010],\n",
       "       [2009],\n",
       "       [2008],\n",
       "       [2007],\n",
       "       [2006],\n",
       "       [2005],\n",
       "       [2004],\n",
       "       [2003],\n",
       "       [2002],\n",
       "       [2001],\n",
       "       [2000],\n",
       "       [1999],\n",
       "       [1998],\n",
       "       [1997],\n",
       "       [1996],\n",
       "       [1995],\n",
       "       [1994],\n",
       "       [1993],\n",
       "       [1992],\n",
       "       [1991],\n",
       "       [1990],\n",
       "       [1989],\n",
       "       [1988],\n",
       "       [1987],\n",
       "       [1986],\n",
       "       [1985],\n",
       "       [1984],\n",
       "       [1983],\n",
       "       [1982],\n",
       "       [1981],\n",
       "       [1980],\n",
       "       [1979],\n",
       "       [1978],\n",
       "       [1977],\n",
       "       [1976],\n",
       "       [1975],\n",
       "       [1974],\n",
       "       [1973],\n",
       "       [1972],\n",
       "       [1971],\n",
       "       [1970],\n",
       "       [1969],\n",
       "       [1968],\n",
       "       [1967],\n",
       "       [1966],\n",
       "       [1965],\n",
       "       [1964],\n",
       "       [1963],\n",
       "       [1962],\n",
       "       [1961],\n",
       "       [1960],\n",
       "       [1959],\n",
       "       [1958],\n",
       "       [1957],\n",
       "       [1956],\n",
       "       [1955],\n",
       "       [1954],\n",
       "       [1953],\n",
       "       [1952],\n",
       "       [1951],\n",
       "       [1927],\n",
       "       [1900],\n",
       "       [1850],\n",
       "       [1804],\n",
       "       [1760],\n",
       "       [1700],\n",
       "       [1600],\n",
       "       [1500],\n",
       "       [1400],\n",
       "       [1200],\n",
       "       [1100],\n",
       "       [1000],\n",
       "       [ 900],\n",
       "       [ 800],\n",
       "       [ 700],\n",
       "       [ 600],\n",
       "       [ 200]])"
      ]
     },
     "execution_count": 41,
     "metadata": {},
     "output_type": "execute_result"
    }
   ],
   "source": [
    "X.values"
   ]
  },
  {
   "cell_type": "code",
   "execution_count": 45,
   "id": "ca1e8893-69fb-49d4-b632-f34e2b78a5bc",
   "metadata": {},
   "outputs": [],
   "source": [
    "y = data_filtered.iloc[:,2].values"
   ]
  },
  {
   "cell_type": "code",
   "execution_count": 49,
   "id": "3ab9ce12-ba3c-4bc8-b04c-5d1f5efa19a2",
   "metadata": {},
   "outputs": [],
   "source": [
    "lin_reg = LinearRegression().fit(X,y)"
   ]
  },
  {
   "cell_type": "markdown",
   "id": "05265c3d-eef8-4067-bd4c-989be24f07b7",
   "metadata": {},
   "source": [
    "## Plotting the linear regression "
   ]
  },
  {
   "cell_type": "code",
   "execution_count": 52,
   "id": "6d372968-675b-4a12-a9e3-b1d802b6a3ce",
   "metadata": {},
   "outputs": [
    {
     "data": {
      "image/png": "[encoded data removed]",
      "text/plain": [
       "<Figure size 640x480 with 1 Axes>"
      ]
     },
     "metadata": {},
     "output_type": "display_data"
    }
   ],
   "source": [
    "plt.scatter(X,y,color='blue')\n",
    "plt.plot(X,lin_reg.predict(X), color= 'red')\n",
    "plt.title('Linear Regression')\n",
    "plt.xlabel('Input Values')\n",
    "plt.ylabel('Target Values')\n",
    "plt.show()"
   ]
  },
  {
   "cell_type": "code",
   "execution_count": null,
   "id": "5c45d4bd-07d0-4c1d-9742-9f3c7fd8d1d1",
   "metadata": {},
   "outputs": [],
   "source": []
  }
 ],
 "metadata": {
  "kernelspec": {
   "display_name": "Python 3 (ipykernel)",
   "language": "python",
   "name": "python3"
  },
  "language_info": {
   "codemirror_mode": {
    "name": "ipython",
    "version": 3
   },
   "file_extension": ".py",
   "mimetype": "text/x-python",
   "name": "python",
   "nbconvert_exporter": "python",
   "pygments_lexer": "ipython3",
   "version": "3.12.4"
  }
 },
 "nbformat": 4,
 "nbformat_minor": 5
}
